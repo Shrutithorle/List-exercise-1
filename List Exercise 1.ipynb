{
 "cells": [
  {
   "cell_type": "markdown",
   "id": "d41ee2f4",
   "metadata": {},
   "source": [
    "# List Assignment:"
   ]
  },
  {
   "cell_type": "code",
   "execution_count": 62,
   "id": "782ce449",
   "metadata": {},
   "outputs": [
    {
     "name": "stdout",
     "output_type": "stream",
     "text": [
      "Sum all the items = 138\n"
     ]
    }
   ],
   "source": [
    "#1. Write a Python program to sum all the items\n",
    "\n",
    "numbers = [7, 55, -10, 40, 50, -4]\n",
    "total = sum(numbers)\n",
    "print(\"Sum all the items =\", total)\n"
   ]
  },
  {
   "cell_type": "code",
   "execution_count": 5,
   "id": "2a0d6c23",
   "metadata": {},
   "outputs": [
    {
     "name": "stdout",
     "output_type": "stream",
     "text": [
      "Multiply all the items in the list: 1680\n"
     ]
    }
   ],
   "source": [
    "#2. Write a Python program to multiply all the items in a list\n",
    "\n",
    "list = [3, 4, 5, 4, 7]\n",
    "result = 1\n",
    "\n",
    "for item in list:\n",
    "    result *= item\n",
    "\n",
    "# Print the result\n",
    "print(\"Multiply all the items in the list:\", result)\n",
    "\n"
   ]
  },
  {
   "cell_type": "code",
   "execution_count": 8,
   "id": "328c0e1c",
   "metadata": {},
   "outputs": [
    {
     "name": "stdout",
     "output_type": "stream",
     "text": [
      "Largest Number : 88\n"
     ]
    }
   ],
   "source": [
    "#3. Write a Python program to get the largest number from a list\n",
    "\n",
    "n = [88, 46, 10, 20, 2, 4]\n",
    "\n",
    "larger_no = n[0]\n",
    "\n",
    "for number in n:\n",
    "    if number > larger_no:\n",
    "        larger_no = number\n",
    "\n",
    "print(\"Largest Number :\", larger_no)\n"
   ]
  },
  {
   "cell_type": "code",
   "execution_count": 10,
   "id": "b3c52829",
   "metadata": {},
   "outputs": [
    {
     "name": "stdout",
     "output_type": "stream",
     "text": [
      "smallest Number : 2\n"
     ]
    }
   ],
   "source": [
    "#4. Write a Python program to get the smallest number from a list\n",
    "\n",
    "\n",
    "n = [88, 46, 10, 20, 2, 4]\n",
    "\n",
    "small_no = n[0]\n",
    "\n",
    "for number in n:\n",
    "    if number < small_no:\n",
    "        small_no = number\n",
    "\n",
    "print(\"Smallest Number :\", small_no)\n"
   ]
  },
  {
   "cell_type": "code",
   "execution_count": null,
   "id": "0599a7dd",
   "metadata": {},
   "outputs": [],
   "source": [
    "#5th"
   ]
  },
  {
   "cell_type": "code",
   "execution_count": 3,
   "id": "8b886910",
   "metadata": {},
   "outputs": [
    {
     "name": "stdout",
     "output_type": "stream",
     "text": [
      "[3, 7, 2, 1, 5, 6, 4, 8, 5, 4]\n"
     ]
    }
   ],
   "source": [
    "#6. Write a Python program to remove duplicates from a list\n",
    "\n",
    "a = [1,2,3,7,2,1,5,6,4,8,5,4]\n",
    "a.remove(2)\n",
    "a.remove(1)\n",
    "print(a)"
   ]
  },
  {
   "cell_type": "code",
   "execution_count": 6,
   "id": "8c220f95",
   "metadata": {},
   "outputs": [
    {
     "name": "stdout",
     "output_type": "stream",
     "text": [
      "Enter values: 30\n",
      "List is Not Empty\n"
     ]
    }
   ],
   "source": [
    "#7. Write a Python program to check a list is empty or not\n",
    "\n",
    "values = int(input(\"Enter values: \"))\n",
    "if values:\n",
    "  print(\"List is Not Empty\")\n",
    "else:\n",
    "  print(\"List is Empty\")\n"
   ]
  },
  {
   "cell_type": "code",
   "execution_count": 10,
   "id": "2c267681",
   "metadata": {},
   "outputs": [
    {
     "name": "stdout",
     "output_type": "stream",
     "text": [
      "Original values =  [10, 22, 44, 23, 4]\n",
      "Copied values = [10, 22, 44, 23, 4]\n"
     ]
    }
   ],
   "source": [
    "#8. Write a Python program to clone or copy a list\n",
    "\n",
    "d = [10, 22, 44, 23, 4]\n",
    "p = d.copy()\n",
    "print(\"Original values = \",d)\n",
    "print(\"Copied values =\",p)\n"
   ]
  },
  {
   "cell_type": "code",
   "execution_count": 23,
   "id": "0a35f237",
   "metadata": {},
   "outputs": [
    {
     "name": "stdout",
     "output_type": "stream",
     "text": [
      "Original list of fruits name: ['apple', 'kiwi', 'grapes', 'mango', 'banana', 'fig', 'cherry']\n",
      "Fruit names longer than 4 : ['apple', 'grapes', 'mango', 'banana', 'cherry']\n"
     ]
    }
   ],
   "source": [
    "#9. Write a Python program to find the list of words that are longer than n from a given list of words\n",
    "\n",
    "fruits = [\"apple\", \"kiwi\", \"grapes\", \"mango\", \"banana\", \"fig\", \"cherry\"]\n",
    "n = 4\n",
    "longerwords=[]\n",
    "for word in fruits:\n",
    "    if len(word) > n:\n",
    "        longerwords.append(word)\n",
    "\n",
    "print(\"Original list of fruits name:\", fruits)\n",
    "print(\"Fruit names longer than\", n, \":\", longerwords)\n"
   ]
  },
  {
   "cell_type": "code",
   "execution_count": 38,
   "id": "1d393bd0",
   "metadata": {},
   "outputs": [
    {
     "name": "stdout",
     "output_type": "stream",
     "text": [
      "Lists have at least one common member.\n"
     ]
    }
   ],
   "source": [
    "#10. Write a Program that get two lists as input and check if they have at least one common member\n",
    "\n",
    "x = [8,1,22,10]\n",
    "y = [6,2,7,8,9]\n",
    "\n",
    "common_member = False\n",
    "for num in x:\n",
    "  if num in y:\n",
    "    common_member = True\n",
    "    break\n",
    "    \n",
    "if common_member:\n",
    "  print(\"Lists have at least one common member.\")\n",
    "else:\n",
    "  print(\"Lists do not have common members.\")\n",
    "\n"
   ]
  },
  {
   "cell_type": "code",
   "execution_count": 55,
   "id": "f208d88a",
   "metadata": {},
   "outputs": [
    {
     "name": "stdout",
     "output_type": "stream",
     "text": [
      "['Dog', 'Elephant', 'Fox', 'Tiger', 'Ponda']\n"
     ]
    }
   ],
   "source": [
    "#11. Write a Python program to print a specified list after removing the 0th, 4th and 5th \n",
    "\n",
    "s= [\"Cat\", \"Dog\", \"Elephant\", \"Fox\", \"Tiger\", \"Lion\", \"Ponda\",\"Horse\"]\n",
    "s.pop(0)\n",
    "print(s)\n",
    "s.pop(4)\n",
    "print(s)\n",
    "s.pop(5)\n",
    "print(s)"
   ]
  },
  {
   "cell_type": "code",
   "execution_count": 61,
   "id": "36847d22",
   "metadata": {},
   "outputs": [
    {
     "name": "stdout",
     "output_type": "stream",
     "text": [
      "Original list: [10, 50, 81, 20, 25, 74, 23, 77]\n",
      "Numbers after removing even numbers: [81, 25, 23, 77]\n"
     ]
    }
   ],
   "source": [
    "#12. Write a Python program to print the numbers of a specified list after removing even numbers from it\n",
    "r = [10,50,81,20,25,74,23,77]\n",
    "\n",
    "odd_numbers = [num for num in r if num % 2 != 0]\n",
    "\n",
    "print(\"Original list:\", r)\n",
    "print(\"Numbers after removing even numbers:\", odd_numbers)\n"
   ]
  },
  {
   "cell_type": "code",
   "execution_count": 2,
   "id": "941956d2",
   "metadata": {},
   "outputs": [
    {
     "name": "stdout",
     "output_type": "stream",
     "text": [
      "['Tiger', 'Lion', 'Cat', 'Elephant', 'Ponda', 'Dog', 'Fox']\n"
     ]
    }
   ],
   "source": [
    "#13. Write a Python program to shuffle and print a specified list (shuffle)\n",
    "\n",
    "import random\n",
    "\n",
    "l = [\"Cat\", \"Dog\", \"Elephant\", \"Fox\", \"Tiger\", \"Lion\", \"Ponda\"]\n",
    "random.shuffle(l)\n",
    "print(l)\n"
   ]
  },
  {
   "cell_type": "code",
   "execution_count": 3,
   "id": "28f9b37e",
   "metadata": {},
   "outputs": [
    {
     "name": "stdout",
     "output_type": "stream",
     "text": [
      "First 5 elements : [1, 4, 9, 16, 25]\n",
      "Last 5 elements : [676, 729, 784, 841, 900]\n"
     ]
    }
   ],
   "source": [
    "#14. Write a Python program to generate and print a list of first and last 5 elements where the values are square of numbers between 1 and 30\n",
    "\n",
    "l = list(map(lambda x: x**2, range(1, 31)))\n",
    "print(\"First 5 elements :\", l[:5])\n",
    "print(\"Last 5 elements :\", l[-5:])\n"
   ]
  },
  {
   "cell_type": "code",
   "execution_count": 8,
   "id": "c217bc76",
   "metadata": {},
   "outputs": [
    {
     "name": "stdout",
     "output_type": "stream",
     "text": [
      "[(1, 2, 3), (1, 3, 2), (2, 1, 3), (2, 3, 1), (3, 1, 2), (3, 2, 1)]\n"
     ]
    }
   ],
   "source": [
    "#15. Write a Python program to generate all permutations of a list in Python. (itertools)\n",
    "import itertools\n",
    "\n",
    "i = [1, 2, 3]\n",
    "permutations = list(itertools. permutations(i))\n",
    "print( permutations)\n"
   ]
  },
  {
   "cell_type": "code",
   "execution_count": null,
   "id": "fcecdf1d",
   "metadata": {},
   "outputs": [],
   "source": []
  }
 ],
 "metadata": {
  "kernelspec": {
   "display_name": "Python 3 (ipykernel)",
   "language": "python",
   "name": "python3"
  },
  "language_info": {
   "codemirror_mode": {
    "name": "ipython",
    "version": 3
   },
   "file_extension": ".py",
   "mimetype": "text/x-python",
   "name": "python",
   "nbconvert_exporter": "python",
   "pygments_lexer": "ipython3",
   "version": "3.11.5"
  }
 },
 "nbformat": 4,
 "nbformat_minor": 5
}
